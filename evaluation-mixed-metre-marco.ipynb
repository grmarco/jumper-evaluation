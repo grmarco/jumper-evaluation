{
 "cells": [
  {
   "cell_type": "markdown",
   "metadata": {},
   "source": [
    "# Evaluation on mixed-metre poetry"
   ]
  },
  {
   "cell_type": "markdown",
   "metadata": {},
   "source": [
    "This Notebook contains the evaluation metrics for Jumper real-time scansion system. It's based on https://github.com/linhd-postdata/rantanplan-evaluation/blob/master/evaluation-fixed-metre.ipynb "
   ]
  },
  {
   "cell_type": "code",
   "execution_count": 1,
   "metadata": {},
   "outputs": [
    {
     "name": "stdout",
     "output_type": "stream",
     "text": [
      "Last run: December 16 2020 - 10:36:33\n"
     ]
    }
   ],
   "source": [
    "from datetime import datetime\n",
    "print(f\"Last run: {datetime.utcnow().strftime('%B %d %Y - %H:%M:%S')}\")"
   ]
  },
  {
   "cell_type": "markdown",
   "metadata": {},
   "source": [
    "## System info"
   ]
  },
  {
   "cell_type": "code",
   "execution_count": 2,
   "metadata": {},
   "outputs": [
    {
     "name": "stdout",
     "output_type": "stream",
     "text": [
      "model name\t: Intel(R) Core(TM) i7-8550U CPU @ 1.80GHz\r\n"
     ]
    }
   ],
   "source": [
    "cat /proc/cpuinfo | grep 'model name' | uniq"
   ]
  },
  {
   "cell_type": "code",
   "execution_count": 3,
   "metadata": {},
   "outputs": [
    {
     "name": "stdout",
     "output_type": "stream",
     "text": [
      "MemTotal:       16279060 kB\r\n"
     ]
    }
   ],
   "source": [
    "cat /proc/meminfo | grep 'MemTotal' | uniq"
   ]
  },
  {
   "cell_type": "markdown",
   "metadata": {},
   "source": [
    "# Setup"
   ]
  },
  {
   "cell_type": "markdown",
   "metadata": {},
   "source": [
    "For the evaluation of mixed-metre poetry we used Antonio Carvajal's annotated Extravagante jerarquía (1958-1982), Madrid: Hiperión, 1983. Due to copyright issues we cannot redistribute the corpus."
   ]
  },
  {
   "cell_type": "markdown",
   "metadata": {},
   "source": [
    "Defining helper functions"
   ]
  },
  {
   "cell_type": "code",
   "execution_count": 4,
   "metadata": {},
   "outputs": [],
   "source": [
    "import math\n",
    "import pandas as pd\n",
    "import numpy as np\n",
    "from glob import glob\n",
    "from xml.etree import ElementTree\n",
    "import time\n",
    "\n",
    "def clean_text(string):\n",
    "    output = string.strip()\n",
    "    # replacements = ((\"“\", '\"'), (\"”\", '\"'), (\"//\", \"\"), (\"«\", '\"'), (\"»\",'\"'))\n",
    "    replacements = ((\"“\", ''), (\"”\", ''), (\"//\", \"\"), (\"«\", ''), (\"»\",''))\n",
    "    for replacement in replacements:\n",
    "        output = output.replace(*replacement)\n",
    "    output = re.sub(r'(?is)\\s+', ' ', output)\n",
    "    output = re.sub(r\"(\\w)-(\\w)\", r\"\\1\\2\", output)  # \"Villa-nueva\" breaks Navarro-Colorado's system\n",
    "    return output\n",
    "\n",
    "def num2sym(metric, length):\n",
    "    if \"/\" in metric:\n",
    "        hemi1, hemi2 = metric.split(\"/\")\n",
    "        return num2sym(hemi1, math.floor(length / 2)) + num2sym(hemi2, math.ceil(length / 2))\n",
    "    else:\n",
    "        symbols = int(length) * [\"-\"]\n",
    "        for i in metric.split(\"-\"):\n",
    "            symbols[int(i) - 1] = \"+\"\n",
    "        return \"\".join(symbols)"
   ]
  },
  {
   "cell_type": "markdown",
   "metadata": {},
   "source": [
    "La siguiente función convierte la cadena de sílabas acentuadas y no acentuadas en un vector de acentos. Ejemplo, de '-+---+---+-' a [2,6,10]"
   ]
  },
  {
   "cell_type": "code",
   "execution_count": 5,
   "metadata": {},
   "outputs": [],
   "source": [
    "def to_vector(acento):\n",
    "    acentos = []\n",
    "    for i,c in enumerate(acento):\n",
    "        if c == '+':\n",
    "            acentos.append(i+1)\n",
    "    return acentos"
   ]
  },
  {
   "cell_type": "code",
   "execution_count": 6,
   "metadata": {},
   "outputs": [],
   "source": [
    "carvajal = pd.read_csv(\"data/carvajal.csv\")\n",
    "carvajal.Length = carvajal.Length.astype(str)"
   ]
  },
  {
   "cell_type": "code",
   "execution_count": 7,
   "metadata": {},
   "outputs": [],
   "source": [
    "carvajal[\"MetricSymbol\"] = carvajal[[\"Metric\", \"Length\"]].apply(\n",
    "    lambda row: num2sym(row[\"Metric\"].strip(), float(row[\"Length\"])), axis=1\n",
    ")\n",
    "carvajal[\"MetricSymbol\"] = carvajal.MetricSymbol.apply(to_vector)"
   ]
  },
  {
   "cell_type": "code",
   "execution_count": 8,
   "metadata": {},
   "outputs": [
    {
     "data": {
      "text/html": [
       "<div>\n",
       "<style scoped>\n",
       "    .dataframe tbody tr th:only-of-type {\n",
       "        vertical-align: middle;\n",
       "    }\n",
       "\n",
       "    .dataframe tbody tr th {\n",
       "        vertical-align: top;\n",
       "    }\n",
       "\n",
       "    .dataframe thead th {\n",
       "        text-align: right;\n",
       "    }\n",
       "</style>\n",
       "<table border=\"1\" class=\"dataframe\">\n",
       "  <thead>\n",
       "    <tr style=\"text-align: right;\">\n",
       "      <th></th>\n",
       "      <th>Length</th>\n",
       "      <th>MetricSymbol</th>\n",
       "    </tr>\n",
       "  </thead>\n",
       "  <tbody>\n",
       "    <tr>\n",
       "      <th>0</th>\n",
       "      <td>14</td>\n",
       "      <td>[2, 4, 6, 9, 13]</td>\n",
       "    </tr>\n",
       "    <tr>\n",
       "      <th>1</th>\n",
       "      <td>14</td>\n",
       "      <td>[1, 3, 6, 9, 13]</td>\n",
       "    </tr>\n",
       "    <tr>\n",
       "      <th>2</th>\n",
       "      <td>14</td>\n",
       "      <td>[1, 3, 6, 9, 13]</td>\n",
       "    </tr>\n",
       "    <tr>\n",
       "      <th>3</th>\n",
       "      <td>14</td>\n",
       "      <td>[4, 6, 9, 13]</td>\n",
       "    </tr>\n",
       "    <tr>\n",
       "      <th>4</th>\n",
       "      <td>14</td>\n",
       "      <td>[2, 6, 9, 13]</td>\n",
       "    </tr>\n",
       "    <tr>\n",
       "      <th>...</th>\n",
       "      <td>...</td>\n",
       "      <td>...</td>\n",
       "    </tr>\n",
       "    <tr>\n",
       "      <th>4373</th>\n",
       "      <td>11</td>\n",
       "      <td>[3, 4, 6, 8, 10]</td>\n",
       "    </tr>\n",
       "    <tr>\n",
       "      <th>4374</th>\n",
       "      <td>11</td>\n",
       "      <td>[2, 4, 8, 9, 10]</td>\n",
       "    </tr>\n",
       "    <tr>\n",
       "      <th>4375</th>\n",
       "      <td>11</td>\n",
       "      <td>[3, 5, 6, 8, 10]</td>\n",
       "    </tr>\n",
       "    <tr>\n",
       "      <th>4376</th>\n",
       "      <td>11</td>\n",
       "      <td>[2, 4, 5, 8, 10]</td>\n",
       "    </tr>\n",
       "    <tr>\n",
       "      <th>4377</th>\n",
       "      <td>11</td>\n",
       "      <td>[2, 4, 6, 8, 10]</td>\n",
       "    </tr>\n",
       "  </tbody>\n",
       "</table>\n",
       "<p>4378 rows × 2 columns</p>\n",
       "</div>"
      ],
      "text/plain": [
       "     Length      MetricSymbol\n",
       "0        14  [2, 4, 6, 9, 13]\n",
       "1        14  [1, 3, 6, 9, 13]\n",
       "2        14  [1, 3, 6, 9, 13]\n",
       "3        14     [4, 6, 9, 13]\n",
       "4        14     [2, 6, 9, 13]\n",
       "...     ...               ...\n",
       "4373     11  [3, 4, 6, 8, 10]\n",
       "4374     11  [2, 4, 8, 9, 10]\n",
       "4375     11  [3, 5, 6, 8, 10]\n",
       "4376     11  [2, 4, 5, 8, 10]\n",
       "4377     11  [2, 4, 6, 8, 10]\n",
       "\n",
       "[4378 rows x 2 columns]"
      ]
     },
     "execution_count": 8,
     "metadata": {},
     "output_type": "execute_result"
    }
   ],
   "source": [
    "carvajal[['Length','MetricSymbol']]"
   ]
  },
  {
   "cell_type": "markdown",
   "metadata": {},
   "source": [
    "# Import"
   ]
  },
  {
   "cell_type": "code",
   "execution_count": 9,
   "metadata": {},
   "outputs": [],
   "source": [
    "import jumper"
   ]
  },
  {
   "cell_type": "markdown",
   "metadata": {},
   "source": [
    "# Results"
   ]
  },
  {
   "cell_type": "markdown",
   "metadata": {},
   "source": [
    "### Accuracy on Carvajal"
   ]
  },
  {
   "cell_type": "code",
   "execution_count": 10,
   "metadata": {},
   "outputs": [],
   "source": [
    "start_time = time.time()\n",
    "analisis_carvajal = jumper.escandir_lista_versos(carvajal.Verses.tolist())\n",
    "time_carvajal = time.time() - start_time"
   ]
  },
  {
   "cell_type": "code",
   "execution_count": 11,
   "metadata": {},
   "outputs": [
    {
     "data": {
      "text/html": [
       "<div>\n",
       "<style scoped>\n",
       "    .dataframe tbody tr th:only-of-type {\n",
       "        vertical-align: middle;\n",
       "    }\n",
       "\n",
       "    .dataframe tbody tr th {\n",
       "        vertical-align: top;\n",
       "    }\n",
       "\n",
       "    .dataframe thead th {\n",
       "        text-align: right;\n",
       "    }\n",
       "</style>\n",
       "<table border=\"1\" class=\"dataframe\">\n",
       "  <thead>\n",
       "    <tr style=\"text-align: right;\">\n",
       "      <th></th>\n",
       "      <th>Sílabas</th>\n",
       "      <th>acentos</th>\n",
       "      <th>Sin acentos extrarrítmicos</th>\n",
       "      <th>Tipo</th>\n",
       "      <th>Coincidencia</th>\n",
       "    </tr>\n",
       "  </thead>\n",
       "  <tbody>\n",
       "    <tr>\n",
       "      <th>0</th>\n",
       "      <td>14</td>\n",
       "      <td>[2, 4, 6, 9, 13]</td>\n",
       "      <td>-</td>\n",
       "      <td>Alejandrino</td>\n",
       "      <td>1.000</td>\n",
       "    </tr>\n",
       "    <tr>\n",
       "      <th>1</th>\n",
       "      <td>14</td>\n",
       "      <td>[1, 3, 6, 9, 10, 13]</td>\n",
       "      <td>-</td>\n",
       "      <td>Alejandrino</td>\n",
       "      <td>1.000</td>\n",
       "    </tr>\n",
       "    <tr>\n",
       "      <th>2</th>\n",
       "      <td>14</td>\n",
       "      <td>[1, 4, 6, 9, 13]</td>\n",
       "      <td>-</td>\n",
       "      <td>Alejandrino</td>\n",
       "      <td>1.000</td>\n",
       "    </tr>\n",
       "    <tr>\n",
       "      <th>3</th>\n",
       "      <td>14</td>\n",
       "      <td>[2, 4, 6, 9, 13]</td>\n",
       "      <td>-</td>\n",
       "      <td>Alejandrino</td>\n",
       "      <td>1.000</td>\n",
       "    </tr>\n",
       "    <tr>\n",
       "      <th>4</th>\n",
       "      <td>14</td>\n",
       "      <td>[2, 6, 10, 13]</td>\n",
       "      <td>-</td>\n",
       "      <td>Alejandrino</td>\n",
       "      <td>1.000</td>\n",
       "    </tr>\n",
       "    <tr>\n",
       "      <th>...</th>\n",
       "      <td>...</td>\n",
       "      <td>...</td>\n",
       "      <td>...</td>\n",
       "      <td>...</td>\n",
       "      <td>...</td>\n",
       "    </tr>\n",
       "    <tr>\n",
       "      <th>4373</th>\n",
       "      <td>11</td>\n",
       "      <td>[3, 4, 6, 8, 10]</td>\n",
       "      <td>[3, 6, 8, 10]</td>\n",
       "      <td>Endecasílabo melódico largo</td>\n",
       "      <td>0.900</td>\n",
       "    </tr>\n",
       "    <tr>\n",
       "      <th>4374</th>\n",
       "      <td>11</td>\n",
       "      <td>[2, 4, 8, 9, 10]</td>\n",
       "      <td>[2, 4, 8, 10]</td>\n",
       "      <td>Endecasílabo sáfico largo pleno</td>\n",
       "      <td>0.900</td>\n",
       "    </tr>\n",
       "    <tr>\n",
       "      <th>4375</th>\n",
       "      <td>11</td>\n",
       "      <td>[3, 5, 6, 8, 10]</td>\n",
       "      <td>[3, 6, 8, 10]</td>\n",
       "      <td>Endecasílabo melódico largo</td>\n",
       "      <td>0.900</td>\n",
       "    </tr>\n",
       "    <tr>\n",
       "      <th>4376</th>\n",
       "      <td>9</td>\n",
       "      <td>[2, 4, 7, 8]</td>\n",
       "      <td>[2, 4, 8]</td>\n",
       "      <td>Eneasílabo heroico puro corto</td>\n",
       "      <td>0.875</td>\n",
       "    </tr>\n",
       "    <tr>\n",
       "      <th>4377</th>\n",
       "      <td>11</td>\n",
       "      <td>[2, 4, 6, 8, 10]</td>\n",
       "      <td>[2, 4, 6, 8, 10]</td>\n",
       "      <td>Endecasílabo heroico pleno</td>\n",
       "      <td>1.000</td>\n",
       "    </tr>\n",
       "  </tbody>\n",
       "</table>\n",
       "<p>4378 rows × 5 columns</p>\n",
       "</div>"
      ],
      "text/plain": [
       "      Sílabas               acentos Sin acentos extrarrítmicos  \\\n",
       "0          14      [2, 4, 6, 9, 13]                          -   \n",
       "1          14  [1, 3, 6, 9, 10, 13]                          -   \n",
       "2          14      [1, 4, 6, 9, 13]                          -   \n",
       "3          14      [2, 4, 6, 9, 13]                          -   \n",
       "4          14        [2, 6, 10, 13]                          -   \n",
       "...       ...                   ...                        ...   \n",
       "4373       11      [3, 4, 6, 8, 10]              [3, 6, 8, 10]   \n",
       "4374       11      [2, 4, 8, 9, 10]              [2, 4, 8, 10]   \n",
       "4375       11      [3, 5, 6, 8, 10]              [3, 6, 8, 10]   \n",
       "4376        9          [2, 4, 7, 8]                  [2, 4, 8]   \n",
       "4377       11      [2, 4, 6, 8, 10]           [2, 4, 6, 8, 10]   \n",
       "\n",
       "                                 Tipo  Coincidencia  \n",
       "0                         Alejandrino         1.000  \n",
       "1                         Alejandrino         1.000  \n",
       "2                         Alejandrino         1.000  \n",
       "3                         Alejandrino         1.000  \n",
       "4                         Alejandrino         1.000  \n",
       "...                               ...           ...  \n",
       "4373      Endecasílabo melódico largo         0.900  \n",
       "4374  Endecasílabo sáfico largo pleno         0.900  \n",
       "4375      Endecasílabo melódico largo         0.900  \n",
       "4376    Eneasílabo heroico puro corto         0.875  \n",
       "4377       Endecasílabo heroico pleno         1.000  \n",
       "\n",
       "[4378 rows x 5 columns]"
      ]
     },
     "execution_count": 11,
     "metadata": {},
     "output_type": "execute_result"
    }
   ],
   "source": [
    "carvajal_output_df = pd.DataFrame.from_records(analisis_carvajal, columns=['Verso', 'Verso etiquetado', \"Sílabas\", \"acentos\", 'Sin acentos extrarrítmicos', 'Tipo', 'Coincidencia'])\n",
    "carvajal_output_df[[\"Sílabas\", \"acentos\", 'Sin acentos extrarrítmicos', 'Tipo', 'Coincidencia']]"
   ]
  },
  {
   "cell_type": "code",
   "execution_count": 12,
   "metadata": {},
   "outputs": [],
   "source": [
    "carvajal_copyright_free = pd.read_csv('data/evaluation-data.csv')\n",
    "carvajal_copyright_free[['LengthJumper','MetricPatternJumper']] = carvajal_output_df[['Sílabas','acentos']].copy()\n",
    "carvajal_copyright_free[['LengthDataset','MetricPatternDataset']] = carvajal[['Length','MetricSymbol']].copy()\n",
    "carvajal_copyright_free.to_csv('data/evaluation-data.csv')"
   ]
  },
  {
   "cell_type": "code",
   "execution_count": 13,
   "metadata": {},
   "outputs": [],
   "source": [
    "carvajal_copyright_free = pd.read_csv('data/evaluation-data.csv')"
   ]
  },
  {
   "cell_type": "code",
   "execution_count": 14,
   "metadata": {},
   "outputs": [],
   "source": [
    "accuracy_carvajal = sum(carvajal_copyright_free.MetricPatternJumper == carvajal_copyright_free.MetricPatternDataset) / carvajal_copyright_free.MetricPatternDataset.size"
   ]
  },
  {
   "cell_type": "code",
   "execution_count": 15,
   "metadata": {},
   "outputs": [
    {
     "name": "stdout",
     "output_type": "stream",
     "text": [
      "Jumper scansion on Carvajal: 0.82 (1.07s)\n"
     ]
    }
   ],
   "source": [
    "print(f\"Jumper scansion on Carvajal: {accuracy_carvajal:.2f} ({time_carvajal:.2f}s)\")"
   ]
  },
  {
   "cell_type": "markdown",
   "metadata": {},
   "source": [
    "#  Failure analysis"
   ]
  },
  {
   "cell_type": "code",
   "execution_count": 16,
   "metadata": {},
   "outputs": [],
   "source": [
    "fails = carvajal_copyright_free.MetricPatternJumper != carvajal_copyright_free.MetricPatternDataset"
   ]
  },
  {
   "cell_type": "code",
   "execution_count": 17,
   "metadata": {},
   "outputs": [],
   "source": [
    "df_fails = carvajal_copyright_free.loc[fails].copy()"
   ]
  },
  {
   "cell_type": "code",
   "execution_count": 18,
   "metadata": {},
   "outputs": [
    {
     "data": {
      "text/html": [
       "<div>\n",
       "<style scoped>\n",
       "    .dataframe tbody tr th:only-of-type {\n",
       "        vertical-align: middle;\n",
       "    }\n",
       "\n",
       "    .dataframe tbody tr th {\n",
       "        vertical-align: top;\n",
       "    }\n",
       "\n",
       "    .dataframe thead th {\n",
       "        text-align: right;\n",
       "    }\n",
       "</style>\n",
       "<table border=\"1\" class=\"dataframe\">\n",
       "  <thead>\n",
       "    <tr style=\"text-align: right;\">\n",
       "      <th></th>\n",
       "      <th>Unnamed: 0</th>\n",
       "      <th>Unnamed: 0.1</th>\n",
       "      <th>LengthJumper</th>\n",
       "      <th>MetricPatternJumper</th>\n",
       "      <th>LengthDataset</th>\n",
       "      <th>MetricPatternDataset</th>\n",
       "    </tr>\n",
       "  </thead>\n",
       "  <tbody>\n",
       "    <tr>\n",
       "      <th>1</th>\n",
       "      <td>1</td>\n",
       "      <td>1</td>\n",
       "      <td>14</td>\n",
       "      <td>[1, 3, 6, 9, 10, 13]</td>\n",
       "      <td>14</td>\n",
       "      <td>[1, 3, 6, 9, 13]</td>\n",
       "    </tr>\n",
       "    <tr>\n",
       "      <th>2</th>\n",
       "      <td>2</td>\n",
       "      <td>2</td>\n",
       "      <td>14</td>\n",
       "      <td>[1, 4, 6, 9, 13]</td>\n",
       "      <td>14</td>\n",
       "      <td>[1, 3, 6, 9, 13]</td>\n",
       "    </tr>\n",
       "    <tr>\n",
       "      <th>3</th>\n",
       "      <td>3</td>\n",
       "      <td>3</td>\n",
       "      <td>14</td>\n",
       "      <td>[2, 4, 6, 9, 13]</td>\n",
       "      <td>14</td>\n",
       "      <td>[4, 6, 9, 13]</td>\n",
       "    </tr>\n",
       "    <tr>\n",
       "      <th>4</th>\n",
       "      <td>4</td>\n",
       "      <td>4</td>\n",
       "      <td>14</td>\n",
       "      <td>[2, 6, 10, 13]</td>\n",
       "      <td>14</td>\n",
       "      <td>[2, 6, 9, 13]</td>\n",
       "    </tr>\n",
       "    <tr>\n",
       "      <th>10</th>\n",
       "      <td>10</td>\n",
       "      <td>10</td>\n",
       "      <td>14</td>\n",
       "      <td>[2, 3, 6, 9, 13]</td>\n",
       "      <td>14</td>\n",
       "      <td>[2, 6, 9, 13]</td>\n",
       "    </tr>\n",
       "    <tr>\n",
       "      <th>...</th>\n",
       "      <td>...</td>\n",
       "      <td>...</td>\n",
       "      <td>...</td>\n",
       "      <td>...</td>\n",
       "      <td>...</td>\n",
       "      <td>...</td>\n",
       "    </tr>\n",
       "    <tr>\n",
       "      <th>4308</th>\n",
       "      <td>4308</td>\n",
       "      <td>4308</td>\n",
       "      <td>10</td>\n",
       "      <td>[2, 5, 6, 7, 9]</td>\n",
       "      <td>11</td>\n",
       "      <td>[2, 5, 6, 7, 8, 10]</td>\n",
       "    </tr>\n",
       "    <tr>\n",
       "      <th>4314</th>\n",
       "      <td>4314</td>\n",
       "      <td>4314</td>\n",
       "      <td>11</td>\n",
       "      <td>[4, 8, 10]</td>\n",
       "      <td>11</td>\n",
       "      <td>[3, 4, 8, 10]</td>\n",
       "    </tr>\n",
       "    <tr>\n",
       "      <th>4316</th>\n",
       "      <td>4316</td>\n",
       "      <td>4316</td>\n",
       "      <td>11</td>\n",
       "      <td>[2, 4, 6, 8, 10]</td>\n",
       "      <td>11</td>\n",
       "      <td>[1, 2, 4, 6, 8, 10]</td>\n",
       "    </tr>\n",
       "    <tr>\n",
       "      <th>4317</th>\n",
       "      <td>4317</td>\n",
       "      <td>4317</td>\n",
       "      <td>11</td>\n",
       "      <td>[2, 4, 6, 8, 10]</td>\n",
       "      <td>11</td>\n",
       "      <td>[2, 6, 8, 10]</td>\n",
       "    </tr>\n",
       "    <tr>\n",
       "      <th>4376</th>\n",
       "      <td>4376</td>\n",
       "      <td>4376</td>\n",
       "      <td>9</td>\n",
       "      <td>[2, 4, 7, 8]</td>\n",
       "      <td>11</td>\n",
       "      <td>[2, 4, 5, 8, 10]</td>\n",
       "    </tr>\n",
       "  </tbody>\n",
       "</table>\n",
       "<p>800 rows × 6 columns</p>\n",
       "</div>"
      ],
      "text/plain": [
       "      Unnamed: 0  Unnamed: 0.1  LengthJumper   MetricPatternJumper  \\\n",
       "1              1             1            14  [1, 3, 6, 9, 10, 13]   \n",
       "2              2             2            14      [1, 4, 6, 9, 13]   \n",
       "3              3             3            14      [2, 4, 6, 9, 13]   \n",
       "4              4             4            14        [2, 6, 10, 13]   \n",
       "10            10            10            14      [2, 3, 6, 9, 13]   \n",
       "...          ...           ...           ...                   ...   \n",
       "4308        4308          4308            10       [2, 5, 6, 7, 9]   \n",
       "4314        4314          4314            11            [4, 8, 10]   \n",
       "4316        4316          4316            11      [2, 4, 6, 8, 10]   \n",
       "4317        4317          4317            11      [2, 4, 6, 8, 10]   \n",
       "4376        4376          4376             9          [2, 4, 7, 8]   \n",
       "\n",
       "      LengthDataset MetricPatternDataset  \n",
       "1                14     [1, 3, 6, 9, 13]  \n",
       "2                14     [1, 3, 6, 9, 13]  \n",
       "3                14        [4, 6, 9, 13]  \n",
       "4                14        [2, 6, 9, 13]  \n",
       "10               14        [2, 6, 9, 13]  \n",
       "...             ...                  ...  \n",
       "4308             11  [2, 5, 6, 7, 8, 10]  \n",
       "4314             11        [3, 4, 8, 10]  \n",
       "4316             11  [1, 2, 4, 6, 8, 10]  \n",
       "4317             11        [2, 6, 8, 10]  \n",
       "4376             11     [2, 4, 5, 8, 10]  \n",
       "\n",
       "[800 rows x 6 columns]"
      ]
     },
     "execution_count": 18,
     "metadata": {},
     "output_type": "execute_result"
    }
   ],
   "source": [
    "df_fails"
   ]
  }
 ],
 "metadata": {
  "kernelspec": {
   "display_name": "Python 3",
   "language": "python",
   "name": "python3"
  },
  "language_info": {
   "codemirror_mode": {
    "name": "ipython",
    "version": 3
   },
   "file_extension": ".py",
   "mimetype": "text/x-python",
   "name": "python",
   "nbconvert_exporter": "python",
   "pygments_lexer": "ipython3",
   "version": "3.8.5"
  }
 },
 "nbformat": 4,
 "nbformat_minor": 4
}
